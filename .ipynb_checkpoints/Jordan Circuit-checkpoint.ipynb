{
 "cells": [
  {
   "cell_type": "code",
   "execution_count": 4,
   "metadata": {},
   "outputs": [
    {
     "name": "stdout",
     "output_type": "stream",
     "text": [
      "{'111': (1+0j)}\n",
      "{'000': (0.35+0j), '001': (-0.35+0j), '010': (-0.35+0j), '011': (0.35+0j), '100': (-0.35+0j), '101': (0.35+0j), '110': (0.35+0j), '111': (-0.35+0j)}\n"
     ]
    }
   ],
   "source": [
    "from qiskit import QuantumCircuit, ClassicalRegister, QuantumRegister, execute\n",
    "from qiskit.tools.visualization import circuit_drawer\n",
    "from qiskit.quantum_info import state_fidelity\n",
    "from qiskit import BasicAer\n",
    "from qiskit.quantum_info import Statevector\n",
    "from qiskit.visualization import plot_state_qsphere, plot_bloch_multivector\n",
    "from qiskit.visualization import plot_histogram\n",
    "from qiskit import Aer, execute\n",
    "\n",
    "def qft(circ, q, d):\n",
    "# circ is QuantumCircuit Object, q is QuantumRegister object, d is the number.\n",
    "    for j in range(d):\n",
    "        circ.h(q[j])\n",
    "        for k in range(j+1,d):\n",
    "            circ.cu1(math.pi/float(2**(k-j)), q[k], q[j])\n",
    "def qftinv(circ, q, d):\n",
    "# circ is QuantumCircuit Object, q is QuantumRegister object, d is the number.\n",
    "    for j in range(d):\n",
    "        circ.h(q[j])\n",
    "        for k in range(j+1,d):\n",
    "            circ.cu1(math.pi/float(2**(j-k)), q[k], q[j])\n",
    "            \n",
    "# define the number of qubits\n",
    "n = 4\n",
    "# instantiate a QuantumCircuit object with the required number of qubits\n",
    "qc = QuantumCircuit(n)\n",
    "# add the gates in their corresponding places as shown in the figure\n",
    "for i in range (0,n-1):\n",
    "    qc.h(i)\n",
    "# call the draw method to plot the circuit\n",
    "qc.draw(\"mpl\")\n",
    "# instatiate the Statevector object using the given input qubits\n",
    "sv = Statevector.from_label(\"111\")\n",
    "# evolve the Statevector object by passing on the QuantumCircuit object defined in part 2\n",
    "new_sv = sv.evolve(qc)\n",
    "# plot the qsphere using the data from the Statevector object\n",
    "\n",
    "print(sv.to_dict(2))\n",
    "d = new_sv.to_dict()\n",
    "j=2\n",
    "for i in d:\n",
    "    d[i] = d[i].round(j)\n",
    "print(d)\n",
    "qc.draw(\"mpl\")"
   ]
  },
  {
   "cell_type": "code",
   "execution_count": null,
   "metadata": {},
   "outputs": [],
   "source": []
  }
 ],
 "metadata": {
  "kernelspec": {
   "display_name": "Python 3",
   "language": "python",
   "name": "python3"
  },
  "language_info": {
   "codemirror_mode": {
    "name": "ipython",
    "version": 3
   },
   "file_extension": ".py",
   "mimetype": "text/x-python",
   "name": "python",
   "nbconvert_exporter": "python",
   "pygments_lexer": "ipython3",
   "version": "3.8.3"
  }
 },
 "nbformat": 4,
 "nbformat_minor": 4
}
